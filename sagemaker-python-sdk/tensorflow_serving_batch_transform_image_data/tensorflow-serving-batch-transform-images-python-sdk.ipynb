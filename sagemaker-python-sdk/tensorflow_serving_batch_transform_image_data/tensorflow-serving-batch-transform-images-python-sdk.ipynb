{
 "cells": [
  {
   "cell_type": "markdown",
   "metadata": {},
   "source": [
    "#  Highly Performant TensorFlow Batch Inference and Training  \n",
    "\n",
    "In this notebook, we'll show how to use SageMaker batch transform to get inferences on a large datasets. To do this, we'll use a TensorFlow Serving model to do batch inference on a large dataset of images. We'll show how to use the new pre-processing and post-processing feature of the TensorFlow Serving container on Amazon SageMaker so that your TensorFlow model can make inferences directly on data in S3, and save post-processed inferences to S3.\n",
    "\n",
    "The dataset we'll be using is the [“Challenge 2018/2019\"](https://github.com/cvdfoundation/open-images-dataset#download-the-open-images-challenge-28182019-test-set)” subset of the [Open Images V5 Dataset](https://storage.googleapis.com/openimages/web/index.html). This subset consists of 100,00 images in .jpg format, for a total of 10GB. For demonstration, the [model](https://github.com/tensorflow/models/tree/master/official/resnet#pre-trained-model) we'll be using is an image classification model based on the ResNet-50 architecture that has been trained on the ImageNet dataset, and which has been exported as a TensorFlow SavedModel.\n",
    "\n",
    "We will use this model to predict the class that each model belongs to. We'll write a pre- and post-processing script and package the script with our TensorFlow SavedModel, and demonstrate how to get inferences on large datasets with SageMaker batch transform quickly, efficiently, and at scale, on GPU-accelerated instances."
   ]
  },
  {
   "cell_type": "markdown",
   "metadata": {},
   "source": [
    "## Setup \n",
    "\n",
    "We'll begin with some necessary imports, and get an Amazon SageMaker session to help perform certain tasks, as well as an IAM role with the necessary permissions."
   ]
  },
  {
   "cell_type": "code",
   "execution_count": 1,
   "metadata": {},
   "outputs": [
    {
     "name": "stdout",
     "output_type": "stream",
     "text": [
      "Region: us-west-2\n",
      "S3 URI: s3://sagemaker-us-west-2-038453126632/sagemaker/DEMO-tf-batch-inference-jpeg-images-python-sdk\n",
      "Role:   arn:aws:iam::038453126632:role/service-role/AmazonSageMaker-ExecutionRole-20180718T141171\n"
     ]
    }
   ],
   "source": [
    "import numpy as np\n",
    "import os\n",
    "import sagemaker\n",
    "from sagemaker import get_execution_role\n",
    "\n",
    "sagemaker_session = sagemaker.Session()\n",
    "role = get_execution_role()\n",
    "\n",
    "region = sagemaker_session.boto_region_name\n",
    "bucket = sagemaker_session.default_bucket()\n",
    "prefix = 'sagemaker/DEMO-tf-batch-inference-jpeg-images-python-sdk'\n",
    "print('Region: {}'.format(region))\n",
    "print('S3 URI: s3://{}/{}'.format(bucket, prefix))\n",
    "print('Role:   {}'.format(role))"
   ]
  },
  {
   "cell_type": "markdown",
   "metadata": {},
   "source": [
    "## Inspecting the SavedModel"
   ]
  },
  {
   "cell_type": "markdown",
   "metadata": {},
   "source": [
    "In order to make inferences, we'll have to preprocess our image data in S3 to match the serving signature of our TensorFlow SavedModel (https://www.tensorflow.org/guide/saved_model), which we can inspect using the saved_model_cli (https://github.com/tensorflow/tensorflow/blob/master/tensorflow/python/tools/saved_model_cli.py).  This is the serving signature of the ResNet-50 v2 (NCHW, JPEG) (https://github.com/tensorflow/models/tree/master/official/resnet#pre-trained-model) model:"
   ]
  },
  {
   "cell_type": "code",
   "execution_count": 2,
   "metadata": {},
   "outputs": [
    {
     "name": "stdout",
     "output_type": "stream",
     "text": [
      "download: s3://sagemaker-sample-data-us-west-2/batch-transform/open-images/model/resnet_v2_fp32_savedmodel_NCHW_jpg.tar.gz to ./resnet_v2_fp32_savedmodel_NCHW_jpg.tar.gz\n",
      "\n",
      "MetaGraphDef with tag-set: 'serve' contains the following SignatureDefs:\n",
      "\n",
      "signature_def['predict']:\n",
      "  The given SavedModel SignatureDef contains the following input(s):\n",
      "    inputs['image_bytes'] tensor_info:\n",
      "        dtype: DT_STRING\n",
      "        shape: (-1)\n",
      "        name: input_tensor:0\n",
      "  The given SavedModel SignatureDef contains the following output(s):\n",
      "    outputs['classes'] tensor_info:\n",
      "        dtype: DT_INT64\n",
      "        shape: (-1)\n",
      "        name: ArgMax:0\n",
      "    outputs['probabilities'] tensor_info:\n",
      "        dtype: DT_FLOAT\n",
      "        shape: (-1, 1001)\n",
      "        name: softmax_tensor:0\n",
      "  Method name is: tensorflow/serving/predict\n",
      "\n",
      "signature_def['serving_default']:\n",
      "  The given SavedModel SignatureDef contains the following input(s):\n",
      "    inputs['image_bytes'] tensor_info:\n",
      "        dtype: DT_STRING\n",
      "        shape: (-1)\n",
      "        name: input_tensor:0\n",
      "  The given SavedModel SignatureDef contains the following output(s):\n",
      "    outputs['classes'] tensor_info:\n",
      "        dtype: DT_INT64\n",
      "        shape: (-1)\n",
      "        name: ArgMax:0\n",
      "    outputs['probabilities'] tensor_info:\n",
      "        dtype: DT_FLOAT\n",
      "        shape: (-1, 1001)\n",
      "        name: softmax_tensor:0\n",
      "  Method name is: tensorflow/serving/predict\n"
     ]
    }
   ],
   "source": [
    "!aws s3 cp s3://sagemaker-sample-data-{region}/batch-transform/open-images/model/resnet_v2_fp32_savedmodel_NCHW_jpg.tar.gz .\n",
    "!tar -zxf resnet_v2_fp32_savedmodel_NCHW_jpg.tar.gz\n",
    "!saved_model_cli show --dir resnet_v2_fp32_savedmodel_NCHW_jpg/1538687370/ --all"
   ]
  },
  {
   "cell_type": "markdown",
   "metadata": {},
   "source": [
    "The SageMaker TensorFlow Serving Container uses the model’s SignatureDef named serving_default , which is declared when the TensorFlow SavedModel is exported. This SignatureDef says that the model accepts a string of arbitrary length as input, and responds with classes and their probabilities. With our image classification model, the input string will be a base-64 encoded string representing a JPEG image, which our SavedModel will decode."
   ]
  },
  {
   "cell_type": "markdown",
   "metadata": {},
   "source": [
    "## Writing a pre- and post-processing script\n",
    "\n",
    "We will package up our SavedModel with a Python script named `inference.py`, which will pre-process input data going from S3 to our TensorFlow Serving model, and post-process output data before it is saved back to S3:"
   ]
  },
  {
   "cell_type": "code",
   "execution_count": 3,
   "metadata": {},
   "outputs": [
    {
     "name": "stdout",
     "output_type": "stream",
     "text": [
      "\u001b[37m# Copyright 2018 Amazon.com, Inc. or its affiliates. All Rights Reserved.\u001b[39;49;00m\r\n",
      "\u001b[37m#\u001b[39;49;00m\r\n",
      "\u001b[37m# Licensed under the Apache License, Version 2.0 (the \"License\"). You\u001b[39;49;00m\r\n",
      "\u001b[37m# may not use this file except in compliance with the License. A copy of\u001b[39;49;00m\r\n",
      "\u001b[37m# the License is located at\u001b[39;49;00m\r\n",
      "\u001b[37m#\u001b[39;49;00m\r\n",
      "\u001b[37m#     http://aws.amazon.com/apache2.0/\u001b[39;49;00m\r\n",
      "\u001b[37m#\u001b[39;49;00m\r\n",
      "\u001b[37m# or in the \"license\" file accompanying this file. This file is\u001b[39;49;00m\r\n",
      "\u001b[37m# distributed on an \"AS IS\" BASIS, WITHOUT WARRANTIES OR CONDITIONS OF\u001b[39;49;00m\r\n",
      "\u001b[37m# ANY KIND, either express or implied. See the License for the specific\u001b[39;49;00m\r\n",
      "\u001b[37m# language governing permissions and limitations under the License.\u001b[39;49;00m\r\n",
      "\r\n",
      "\u001b[34mimport\u001b[39;49;00m \u001b[04m\u001b[36mbase64\u001b[39;49;00m\r\n",
      "\u001b[34mimport\u001b[39;49;00m \u001b[04m\u001b[36mio\u001b[39;49;00m\r\n",
      "\u001b[34mimport\u001b[39;49;00m \u001b[04m\u001b[36mjson\u001b[39;49;00m\r\n",
      "\u001b[34mimport\u001b[39;49;00m \u001b[04m\u001b[36mrequests\u001b[39;49;00m\r\n",
      "\r\n",
      "\u001b[34mdef\u001b[39;49;00m \u001b[32minput_handler\u001b[39;49;00m(data, context):\r\n",
      "    \u001b[33m\"\"\" Pre-process request input before it is sent to TensorFlow Serving REST API\u001b[39;49;00m\r\n",
      "\u001b[33m\u001b[39;49;00m\r\n",
      "\u001b[33m    Args:\u001b[39;49;00m\r\n",
      "\u001b[33m        data (obj): the request data stream\u001b[39;49;00m\r\n",
      "\u001b[33m        context (Context): an object containing request and configuration details\u001b[39;49;00m\r\n",
      "\u001b[33m\u001b[39;49;00m\r\n",
      "\u001b[33m    Returns:\u001b[39;49;00m\r\n",
      "\u001b[33m        (dict): a JSON-serializable dict that contains request body and headers\u001b[39;49;00m\r\n",
      "\u001b[33m    \"\"\"\u001b[39;49;00m\r\n",
      "\r\n",
      "    \u001b[34mif\u001b[39;49;00m context.request_content_type == \u001b[33m'\u001b[39;49;00m\u001b[33mapplication/x-image\u001b[39;49;00m\u001b[33m'\u001b[39;49;00m:\r\n",
      "        payload = data.read()\r\n",
      "        encoded_image = base64.b64encode(payload).decode(\u001b[33m'\u001b[39;49;00m\u001b[33mutf-8\u001b[39;49;00m\u001b[33m'\u001b[39;49;00m)\r\n",
      "        instance = [{\u001b[33m\"\u001b[39;49;00m\u001b[33mb64\u001b[39;49;00m\u001b[33m\"\u001b[39;49;00m: encoded_image}]\r\n",
      "        \u001b[34mreturn\u001b[39;49;00m json.dumps({\u001b[33m\"\u001b[39;49;00m\u001b[33minstances\u001b[39;49;00m\u001b[33m\"\u001b[39;49;00m: instance})\r\n",
      "    \u001b[34melse\u001b[39;49;00m:\r\n",
      "        _return_error(\u001b[34m415\u001b[39;49;00m, \u001b[33m'\u001b[39;49;00m\u001b[33mUnsupported content type \u001b[39;49;00m\u001b[33m\"\u001b[39;49;00m\u001b[33m{}\u001b[39;49;00m\u001b[33m\"\u001b[39;49;00m\u001b[33m'\u001b[39;49;00m.format(context.request_content_type \u001b[35mor\u001b[39;49;00m \u001b[33m'\u001b[39;49;00m\u001b[33mUnknown\u001b[39;49;00m\u001b[33m'\u001b[39;49;00m))\r\n",
      "\r\n",
      "\r\n",
      "\u001b[34mdef\u001b[39;49;00m \u001b[32moutput_handler\u001b[39;49;00m(response, context):\r\n",
      "    \u001b[33m\"\"\"Post-process TensorFlow Serving output before it is returned to the client.\u001b[39;49;00m\r\n",
      "\u001b[33m\u001b[39;49;00m\r\n",
      "\u001b[33m    Args:\u001b[39;49;00m\r\n",
      "\u001b[33m        response (obj): the TensorFlow serving response\u001b[39;49;00m\r\n",
      "\u001b[33m        context (Context): an object containing request and configuration details\u001b[39;49;00m\r\n",
      "\u001b[33m\u001b[39;49;00m\r\n",
      "\u001b[33m    Returns:\u001b[39;49;00m\r\n",
      "\u001b[33m        (bytes, string): data to return to client, response content type\u001b[39;49;00m\r\n",
      "\u001b[33m    \"\"\"\u001b[39;49;00m\r\n",
      "    \u001b[34mif\u001b[39;49;00m response.status_code != \u001b[34m200\u001b[39;49;00m:\r\n",
      "        _return_error(response.status_code, response.content.decode(\u001b[33m'\u001b[39;49;00m\u001b[33mutf-8\u001b[39;49;00m\u001b[33m'\u001b[39;49;00m))\r\n",
      "    response_content_type = context.accept_header\r\n",
      "    prediction = response.content\r\n",
      "    \u001b[34mreturn\u001b[39;49;00m prediction, response_content_type\r\n",
      "\r\n",
      "\r\n",
      "\u001b[34mdef\u001b[39;49;00m \u001b[32m_return_error\u001b[39;49;00m(code, message):\r\n",
      "    \u001b[34mraise\u001b[39;49;00m \u001b[36mValueError\u001b[39;49;00m(\u001b[33m'\u001b[39;49;00m\u001b[33mError: {}, {}\u001b[39;49;00m\u001b[33m'\u001b[39;49;00m.format(\u001b[36mstr\u001b[39;49;00m(code), message))\r\n"
     ]
    }
   ],
   "source": [
    "!pygmentize code/inference.py"
   ]
  },
  {
   "cell_type": "markdown",
   "metadata": {},
   "source": [
    "The input_handler intercepts inference requests, base-64 encodes the request body, and formats the request body to conform to TensorFlow Serving’s REST API (https://www.tensorflow.org/tfx/serving/api_rest). The return value of the input_handler function is used as the request body in the TensorFlow Serving request.\n",
    "\n",
    "Binary data must use key \"b64\", according to the TFS REST API (https://www.tensorflow.org/tfx/serving/api_rest#encoding_binary_values), and since our serving signature’s input tensor has the suffix \"\\_bytes\", the encoded image data under key \"b64\" will be passed to the \"image\\_bytes\" tensor. Some serving signatures may accept a tensor of floats or integers instead of a base-64 encoded string, but for binary data (including image data), it is recommended that your SavedModel accept a base-64 encoded string for binary data, since JSON representations of binary data can be large."
   ]
  },
  {
   "cell_type": "markdown",
   "metadata": {},
   "source": [
    "Each incoming request originally contains a serialized JPEG image in its request body, and after passing through the input_handler, the request body contains the following, which our TensorFlow Serving accepts for inference:\n",
    "\n",
    "`{\"instances\": [{\"b64\":\"[base-64 encoded JPEG image]\"}]}`"
   ]
  },
  {
   "cell_type": "markdown",
   "metadata": {},
   "source": [
    "The first field in the return value of `output_handler` is what SageMaker Batch Transform will save to S3 as this example’s prediction. In this case, our `output_handler` passes the content on to S3 unmodified.\n",
    "\n",
    "Pre- and post-processing functions let you perform inference with TensorFlow Serving on any data format, not just images. To learn more about the `input_handler` and `output_handler`, consult the SageMaker TensorFlow Serving Container README (https://github.com/aws/sagemaker-tensorflow-serving-container/blob/master/README.md)."
   ]
  },
  {
   "cell_type": "markdown",
   "metadata": {},
   "source": [
    "## Packaging a Model"
   ]
  },
  {
   "cell_type": "markdown",
   "metadata": {},
   "source": [
    "After writing a pre- and post-processing script, you’ll need to package your TensorFlow SavedModel along with your script into a `model.tar.gz` file, which we’ll upload to S3 for the SageMaker TensorFlow Serving Container to use. Let's package the SavedModel with the `inference.py` script and examine the expected format of the `model.tar.gz` file:"
   ]
  },
  {
   "cell_type": "code",
   "execution_count": 4,
   "metadata": {},
   "outputs": [
    {
     "name": "stdout",
     "output_type": "stream",
     "text": [
      "code/\n",
      "code/.ipynb_checkpoints/\n",
      "code/inference.py\n",
      "1538687370/\n",
      "1538687370/saved_model.pb\n",
      "1538687370/variables/\n",
      "1538687370/variables/variables.data-00000-of-00001\n",
      "1538687370/variables/variables.index\n"
     ]
    }
   ],
   "source": [
    "!tar -cvzf model.tar.gz code --directory=resnet_v2_fp32_savedmodel_NCHW_jpg 1538687370"
   ]
  },
  {
   "cell_type": "markdown",
   "metadata": {},
   "source": [
    "`1538687370` refers to the model version number of the SavedModel, and this directory contains our SavedModel artifacts. The code directory contains our pre- and post-processing script, which must be named `inference.py`. I can also include an optional `requirements.txt` file, which is used to install dependencies with `pip` from the Python Package Index before the Transform Job starts, but we don’t need any additional dependencies in this case, so we don't include a requirements file."
   ]
  },
  {
   "cell_type": "markdown",
   "metadata": {},
   "source": [
    "We will use this `model.tar.gz` when we create a SageMaker Model, which we will use to run Transform Jobs. To learn more about packaging a model, you can consult the SageMaker TensorFlow Serving Container [README](https://github.com/aws/sagemaker-tensorflow-serving-container/blob/master/README.md)."
   ]
  },
  {
   "cell_type": "markdown",
   "metadata": {},
   "source": [
    "## Run a Batch Transform job\n",
    "\n",
    "Next, we'll run a Batch Transform job using our data processing script and GPU-based Amazon SageMaker Model. More specifically, we'll perform inference on a cluster of two instances, though we can choose more or fewer. The objects in the S3 path will be distributed across the instances.\n",
    "\n",
    "The code below creates a SageMaker Model entity that will be used for Batch inference, and runs a Transform Job using that Model. The Model contains a reference to the TFS container, and the `model.tar.gz` containing our TensorFlow SavedModel and the pre- and post-processing `inference.py` script."
   ]
  },
  {
   "cell_type": "code",
   "execution_count": 5,
   "metadata": {},
   "outputs": [
    {
     "name": "stdout",
     "output_type": "stream",
     "text": [
      "Model data S3 path: s3://sagemaker-us-west-2-038453126632/sagemaker/DEMO-tf-batch-inference-jpeg-images-python-sdk/model/model.tar.gz\n",
      "Input S3 path: s3://sagemaker-sample-data-us-west-2/batch-transform/open-images/jpg\n"
     ]
    }
   ],
   "source": [
    "import os\n",
    "import sagemaker\n",
    "from sagemaker.tensorflow.serving import Model\n",
    "\n",
    "s3_path = 's3://{}/{}'.format(bucket, prefix)\n",
    "\n",
    "model_data = sagemaker_session.upload_data('model.tar.gz',\n",
    "                                           bucket,\n",
    "                                           os.path.join(prefix, 'model'))\n",
    "                                           \n",
    "tensorflow_serving_model = Model(model_data=model_data,\n",
    "                                 role=role,\n",
    "                                 framework_version='1.13',\n",
    "                                 sagemaker_session=sagemaker_session)\n",
    "\n",
    "input_path = 's3://sagemaker-sample-data-{}/batch-transform/open-images/jpg'.format(region)\n",
    "\n",
    "print('Model data S3 path: {}'.format(model_data))\n",
    "print('Input S3 path: {}'.format(input_path))"
   ]
  },
  {
   "cell_type": "markdown",
   "metadata": {},
   "source": [
    "Before we create a Transform Job, let's inspect some of our input data. Here's an example, the first image in our dataset:\n",
    "\n",
    "\n",
    "\n",
    "<img src=\"sample_image/00000b4dcff7f799.jpg\">"
   ]
  },
  {
   "cell_type": "markdown",
   "metadata": {},
   "source": [
    "The data in the input path consists of 100,000 JPEG images of varying sizes and shapes. Here is a subset:"
   ]
  },
  {
   "cell_type": "code",
   "execution_count": 6,
   "metadata": {},
   "outputs": [
    {
     "name": "stdout",
     "output_type": "stream",
     "text": [
      "Transform input path: s3://sagemaker-sample-data-us-west-2/batch-transform/open-images/jpg\n",
      "2019-07-09 22:19:18  126.2 KiB 00000b4dcff7f799.jpg\n",
      "2019-07-09 22:19:18  115.8 KiB 00001a21632de752.jpg\n",
      "2019-07-09 22:19:18  151.0 KiB 0000d67245642c5f.jpg\n",
      "2019-07-09 22:19:18  159.9 KiB 0001244aa8ed3099.jpg\n",
      "2019-07-09 22:19:18  115.0 KiB 000172d1dd1adce0.jpg\n",
      "2019-07-09 22:19:18   65.4 KiB 0001c8fbfb30d3a6.jpg\n",
      "2019-07-09 22:19:18   70.4 KiB 0001dd930912683d.jpg\n",
      "2019-07-09 22:19:18   73.0 KiB 0002c96937fae3b3.jpg\n",
      "2019-07-09 22:19:18  109.2 KiB 0002f94fe2d2eb9f.jpg\n",
      "2019-07-09 22:19:18  119.2 KiB 000305ba209270dc.jpg\n",
      "2019-07-09 22:19:18  119.5 KiB 000313fed9979d24.jpg\n",
      "2019-07-09 22:19:18   77.2 KiB 0003a523fa9b2a3f.jpg\n",
      "2019-07-09 22:19:18   84.9 KiB 0003d1c3be9ed3d6.jpg\n",
      "2019-07-09 22:19:18   82.9 KiB 000455be7b222c04.jpg\n",
      "2019-07-09 22:19:18  104.8 KiB 0004fdbc5b94c7c2.jpg\n",
      "2019-07-09 22:19:18  144.0 KiB 0005339c44e6071b.jpg\n",
      "2019-07-09 22:19:19   75.2 KiB 0005aea8c9144c77.jpg\n",
      "2019-07-09 22:19:19   71.0 KiB 0005facd8dbaf39a.jpg\n",
      "2019-07-09 22:19:19   47.5 KiB 0005fcc2fd4eaa4a.jpg\n",
      "2019-07-09 22:19:19  151.3 KiB 00069966ba8519e5.jpg\n",
      "2019-07-09 22:19:19   85.1 KiB 0007c05c94bcf41b.jpg\n",
      "2019-07-09 22:19:19  111.0 KiB 0007e8279612ac07.jpg\n",
      "2019-07-09 22:19:19   62.7 KiB 0007ffd0ba02c9ce.jpg\n",
      "2019-07-09 22:19:19   80.5 KiB 0008348dfbd5d85f.jpg\n",
      "2019-07-09 22:19:19  104.3 KiB 0008501b0c5108ab.jpg\n",
      "2019-07-09 22:19:19  205.2 KiB 0008525fb2879723.jpg\n",
      "2019-07-09 22:19:19  178.4 KiB 0008758042ec63a7.jpg\n",
      "2019-07-09 22:19:19   77.2 KiB 000912f449df9180.jpg\n",
      "2019-07-09 22:19:19   41.4 KiB 000a017e2b7063a7.jpg\n",
      "2019-07-09 22:19:19  107.7 KiB 000b39037205b35d.jpg\n",
      "2019-07-09 22:19:19  180.7 KiB 000cb33296bfd7f1.jpg\n",
      "2019-07-09 22:19:19   59.5 KiB 000d3e755ce7542c.jpg\n",
      "2019-07-09 22:19:19   85.5 KiB 000d6aba3b0af069.jpg\n",
      "2019-07-09 22:19:19  225.5 KiB 000f18da4c446aab.jpg\n",
      "2019-07-09 22:19:19   85.3 KiB 000f579533500448.jpg\n",
      "2019-07-09 22:19:19  135.8 KiB 000fbd342baaadd3.jpg\n",
      "2019-07-09 22:19:19   87.6 KiB 000fdfc1f01572d4.jpg\n"
     ]
    }
   ],
   "source": [
    "!echo \"Transform input path: {input_path}\"\n",
    "!aws s3 ls {input_path}/000 --human-readable"
   ]
  },
  {
   "cell_type": "markdown",
   "metadata": {},
   "source": [
    "Now that we’ve created a SageMaker Model, we can use it to run batch predictions using Batch Transform. We specify the input S3 data, content type of the input data, the output S3 data, and instance type and count.\n",
    "\n",
    "For improved performance, we specify two additional parameters `max_concurrent_transforms` and `max_payload`, which control the maximum number of parallel requests that can be sent to each instance in a transform job at a time, and the maximum size of each request body.\n",
    "\n",
    "When performing inference on entire S3 objects that cannot be split by newline characters, such as images, it is recommended that you set `max_payload` to be slightly larger than the largest S3 object in your dataset, and that you experiment with the `max_concurrent_transforms` parameter in powers of two to find a value that maximizes throughput for your model. For example, we’ve set `max_concurrent_transforms` to 64 after experimenting with powers of two, and we set `max_payload` to 1, since the largest object in our S3 input is less than one megabyte."
   ]
  },
  {
   "cell_type": "code",
   "execution_count": 7,
   "metadata": {},
   "outputs": [
    {
     "name": "stdout",
     "output_type": "stream",
     "text": [
      "Transform input S3 path:  s3://sagemaker-sample-data-us-west-2/batch-transform/open-images/jpg\n",
      "Transform output S3 path: s3://sagemaker-us-west-2-038453126632/sagemaker/DEMO-tf-batch-inference-jpeg-images-python-sdk/output\n",
      ".................................................................................................................................................................................................................................................................!\n"
     ]
    }
   ],
   "source": [
    "output_path = os.path.join(s3_path, 'output')\n",
    "tensorflow_serving_transformer = tensorflow_serving_model.transformer(\n",
    "                                     instance_count=2,\n",
    "                                     instance_type='ml.p2.xlarge',\n",
    "                                     max_concurrent_transforms=64,\n",
    "                                     max_payload=1,\n",
    "                                     output_path=output_path)\n",
    "\n",
    "print('Transform input S3 path:  {}'.format(input_path))\n",
    "print('Transform output S3 path: {}'.format(output_path))\n",
    "tensorflow_serving_transformer.transform(input_path, content_type='application/x-image')\n",
    "tensorflow_serving_transformer.wait()"
   ]
  },
  {
   "cell_type": "markdown",
   "metadata": {},
   "source": [
    "After our transform job finishes, we find one S3 object in the output path for each object in the input path. This object contains the inferences from our model for that object, and has the same name as the corresponding input object, but with `.out` appended to it."
   ]
  },
  {
   "cell_type": "code",
   "execution_count": 8,
   "metadata": {},
   "outputs": [
    {
     "name": "stdout",
     "output_type": "stream",
     "text": [
      "2019-07-22 05:35:13   12.7 KiB 00000b4dcff7f799.jpg.out\r\n",
      "2019-07-22 05:35:13   12.6 KiB 00001a21632de752.jpg.out\r\n",
      "2019-07-22 05:35:13   12.7 KiB 0000d67245642c5f.jpg.out\r\n",
      "2019-07-22 05:35:13   12.6 KiB 0001244aa8ed3099.jpg.out\r\n",
      "2019-07-22 05:35:13   12.7 KiB 000172d1dd1adce0.jpg.out\r\n",
      "2019-07-22 05:35:12   12.7 KiB 0001c8fbfb30d3a6.jpg.out\r\n",
      "2019-07-22 05:35:13   12.6 KiB 0001dd930912683d.jpg.out\r\n",
      "2019-07-22 05:35:13   12.7 KiB 0002c96937fae3b3.jpg.out\r\n",
      "2019-07-22 05:35:14   12.7 KiB 0002f94fe2d2eb9f.jpg.out\r\n",
      "2019-07-22 05:35:14   12.5 KiB 000305ba209270dc.jpg.out\r\n",
      "2019-07-22 05:35:13   12.7 KiB 000313fed9979d24.jpg.out\r\n",
      "2019-07-22 05:35:13   12.7 KiB 0003a523fa9b2a3f.jpg.out\r\n",
      "2019-07-22 05:35:13   12.7 KiB 0003d1c3be9ed3d6.jpg.out\r\n",
      "2019-07-22 05:35:13   12.7 KiB 000455be7b222c04.jpg.out\r\n",
      "2019-07-22 05:35:14   12.7 KiB 0004fdbc5b94c7c2.jpg.out\r\n",
      "2019-07-22 05:35:13   12.7 KiB 0005339c44e6071b.jpg.out\r\n",
      "2019-07-22 05:35:13   12.6 KiB 0005aea8c9144c77.jpg.out\r\n",
      "2019-07-22 05:35:14   12.7 KiB 0005facd8dbaf39a.jpg.out\r\n",
      "2019-07-22 05:35:14   12.7 KiB 0005fcc2fd4eaa4a.jpg.out\r\n",
      "2019-07-22 05:35:13   12.7 KiB 00069966ba8519e5.jpg.out\r\n",
      "2019-07-22 05:35:12   12.7 KiB 0007c05c94bcf41b.jpg.out\r\n",
      "2019-07-22 05:35:14   12.7 KiB 0007e8279612ac07.jpg.out\r\n",
      "2019-07-22 05:35:12   12.7 KiB 0007ffd0ba02c9ce.jpg.out\r\n",
      "2019-07-22 05:35:12   12.7 KiB 0008348dfbd5d85f.jpg.out\r\n",
      "2019-07-22 05:35:12   12.7 KiB 0008501b0c5108ab.jpg.out\r\n",
      "2019-07-22 05:35:12   12.6 KiB 0008525fb2879723.jpg.out\r\n",
      "2019-07-22 05:35:14   12.7 KiB 0008758042ec63a7.jpg.out\r\n",
      "2019-07-22 05:35:12   12.6 KiB 000912f449df9180.jpg.out\r\n",
      "2019-07-22 05:35:12   12.7 KiB 000a017e2b7063a7.jpg.out\r\n",
      "2019-07-22 05:35:12   12.7 KiB 000b39037205b35d.jpg.out\r\n",
      "2019-07-22 05:35:13   12.6 KiB 000cb33296bfd7f1.jpg.out\r\n",
      "2019-07-22 05:35:14   12.6 KiB 000d3e755ce7542c.jpg.out\r\n",
      "2019-07-22 05:35:14   12.7 KiB 000d6aba3b0af069.jpg.out\r\n",
      "2019-07-22 05:35:14   12.6 KiB 000f18da4c446aab.jpg.out\r\n",
      "2019-07-22 05:35:13   12.7 KiB 000f579533500448.jpg.out\r\n",
      "2019-07-22 05:35:13   12.7 KiB 000fbd342baaadd3.jpg.out\r\n",
      "2019-07-22 05:35:14   12.7 KiB 000fdfc1f01572d4.jpg.out\r\n"
     ]
    }
   ],
   "source": [
    "!aws s3 ls {output_path}/000 --human-readable"
   ]
  },
  {
   "cell_type": "markdown",
   "metadata": {},
   "source": [
    "Inspecting one of the output objects, we find the prediction from our TensorFlow Serving model. This is from the example image displayed above:"
   ]
  },
  {
   "cell_type": "code",
   "execution_count": 9,
   "metadata": {},
   "outputs": [
    {
     "name": "stdout",
     "output_type": "stream",
     "text": [
      "{\n",
      "    \"predictions\": [\n",
      "        {\n",
      "            \"probabilities\": [7.4867e-07, 1.54555e-06, 3.04351e-06, 1.9618e-05, 6.92251e-06, 3.16003e-06, 1.9662e-05, 2.82171e-06, 3.88347e-05, 1.60989e-05, 1.53455e-05, 6.01256e-07, 2.78777e-06, 1.11208e-05, 7.98601e-07, 6.55136e-06, 3.26973e-06, 5.61107e-07, 5.62262e-06, 5.54361e-06, 2.101e-06, 9.41294e-07, 2.31893e-06, 3.48475e-06, 1.09363e-05, 4.11321e-06, 1.24613e-06, 9.51377e-07, 1.52575e-06, 1.21844e-06, 2.03722e-06, 1.32383e-06, 9.15459e-07, 1.98695e-06, 2.21266e-05, 5.08505e-06, 1.00016e-06, 2.03871e-06, 2.25159e-06, 5.01501e-07, 8.18206e-06, 9.78015e-07, 1.04662e-06, 1.79995e-06, 3.17813e-07, 1.0223e-06, 6.08684e-06, 6.15803e-07, 2.22039e-07, 1.18294e-05, 7.58449e-07, 4.56728e-06, 2.53492e-05, 2.34767e-06, 4.40761e-06, 5.03574e-06, 2.55696e-06, 2.91377e-06, 1.21964e-06, 2.48978e-06, 2.16967e-06, 1.89516e-05, 7.04591e-06, 4.72159e-06, 2.83891e-06, 1.44539e-06, 8.43768e-06, 7.74085e-07, 6.74909e-06, 1.45149e-06, 3.51812e-06, 5.45966e-07, 1.93929e-06, 5.98564e-07, 7.00473e-06, 2.43815e-06, 2.59484e-06, 8.97997e-06, 6.55444e-06, 5.25404e-06, 5.0285e-06, 8.71914e-07, 1.32651e-06, 1.55956e-06, 2.03237e-06, 3.18115e-06, 7.58096e-06, 1.59917e-06, 4.70789e-06, 2.42121e-05, 3.08397e-06, 1.94617e-06, 6.37647e-07, 1.9833e-07, 1.89341e-06, 6.49576e-06, 2.26786e-07, 8.24176e-07, 5.48275e-07, 3.90787e-07, 1.02798e-06, 1.90138e-06, 1.25141e-05, 5.02119e-06, 1.81843e-06, 5.4419e-06, 3.50591e-06, 4.78197e-06, 3.98532e-06, 1.46712e-06, 8.31561e-07, 3.4249e-07, 2.98321e-06, 3.84331e-05, 9.89146e-07, 3.68916e-06, 8.45359e-08, 4.49665e-07, 2.75904e-06, 1.41001e-05, 2.11505e-06, 5.59626e-06, 8.12388e-06, 1.28056e-05, 2.71052e-05, 3.36066e-05, 2.44377e-06, 8.85798e-07, 3.97557e-06, 8.35989e-07, 1.10432e-06, 1.53758e-05, 5.46162e-06, 3.30091e-06, 4.38374e-07, 1.70261e-05, 1.43242e-06, 2.47975e-06, 3.60636e-06, 3.52148e-07, 6.69026e-07, 2.18782e-06, 7.16815e-07, 5.55024e-07, 6.93186e-07, 2.14249e-06, 2.18993e-06, 2.68655e-06, 5.76281e-06, 1.09909e-05, 9.89717e-07, 3.23633e-05, 2.51161e-05, 3.81393e-06, 5.47632e-06, 2.20592e-05, 5.71014e-06, 8.73332e-05, 4.11533e-05, 2.67744e-06, 8.05985e-05, 0.00015827, 0.000141452, 4.27447e-05, 0.000179984, 8.52002e-05, 2.09768e-05, 2.43967e-05, 1.16044e-05, 4.25299e-05, 6.08494e-05, 0.000154262, 2.15211e-05, 3.95735e-05, 8.47291e-05, 8.13256e-06, 1.44826e-05, 0.000105198, 0.000105236, 3.76283e-05, 3.79916e-05, 4.81319e-05, 9.93731e-06, 3.91087e-05, 7.08649e-05, 8.10011e-05, 3.78815e-05, 9.84512e-06, 8.71999e-06, 7.13479e-06, 0.000181076, 1.72853e-05, 3.12809e-05, 9.61283e-06, 1.08026e-05, 1.18413e-05, 1.45701e-05, 1.26885e-05, 5.77421e-05, 3.54646e-05, 3.75067e-05, 1.82236e-05, 8.99749e-06, 8.28628e-05, 3.64026e-05, 2.6475e-05, 2.28352e-05, 2.22306e-05, 1.29573e-05, 4.93564e-05, 6.20425e-05, 1.326e-05, 4.69414e-05, 0.000116987, 0.000111035, 5.54465e-05, 2.42494e-05, 0.000188316, 7.80753e-05, 2.18977e-05, 4.76861e-05, 5.6408e-05, 0.000117616, 3.39192e-05, 5.57561e-05, 5.40521e-05, 0.00011997, 0.000209919, 0.000124256, 4.77043e-05, 2.98871e-05, 2.14803e-05, 6.74153e-05, 5.22631e-05, 0.00015958, 3.41879e-05, 3.4825e-05, 3.24685e-05, 1.4535e-05, 0.000245628, 8.5397e-05, 0.000126022, 0.000122216, 2.51767e-05, 6.81328e-05, 0.000242488, 4.85389e-05, 6.92153e-05, 0.000124231, 4.02954e-05, 8.85796e-05, 4.26407e-05, 0.000241984, 4.49174e-06, 4.41368e-05, 2.30566e-05, 0.00041567, 0.000655778, 9.8698e-05, 1.07763e-05, 3.90003e-06, 1.77999e-05, 2.27052e-05, 2.34383e-05, 3.03612e-06, 3.10501e-05, 1.32618e-05, 5.40036e-06, 2.12189e-05, 5.45917e-05, 1.9122e-05, 1.79708e-05, 2.24228e-06, 3.32971e-06, 0.000207501, 3.11776e-06, 4.8458e-06, 3.80184e-06, 6.82007e-06, 2.05456e-05, 2.97607e-06, 1.60717e-05, 6.14315e-06, 1.04464e-05, 1.38708e-05, 1.59826e-06, 4.64852e-06, 1.22024e-06, 2.21158e-06, 2.39586e-06, 5.56316e-07, 2.50847e-06, 2.75442e-06, 9.38328e-06, 4.35841e-06, 2.37495e-06, 1.78955e-05, 3.81965e-06, 3.11158e-06, 3.6403e-06, 9.71356e-06, 1.49841e-06, 2.5804e-06, 2.2892e-06, 1.27264e-06, 1.43136e-06, 5.93823e-06, 4.87443e-06, 1.85572e-06, 9.59039e-07, 2.3589e-06, 1.10553e-05, 1.37511e-06, 1.69286e-06, 6.36504e-06, 1.65469e-05, 1.762e-06, 1.59402e-06, 1.1007e-06, 2.82958e-07, 3.02472e-07, 4.6903e-07, 2.86206e-06, 4.29645e-07, 1.1644e-06, 7.27171e-07, 2.32862e-07, 3.54264e-07, 3.82208e-06, 1.08882e-06, 6.83158e-06, 2.1624e-05, 7.76821e-06, 1.96434e-05, 1.99797e-06, 8.33799e-06, 3.62007e-06, 8.18325e-06, 9.19751e-06, 2.27224e-05, 4.76325e-05, 6.00586e-06, 0.000218237, 6.88136e-05, 5.73158e-05, 4.38772e-06, 0.000508333, 6.49696e-06, 4.20552e-05, 0.000332511, 3.48424e-05, 6.61304e-06, 2.17556e-06, 5.32068e-06, 6.03693e-06, 0.000110339, 0.000437352, 6.60036e-06, 9.59402e-06, 5.79062e-06, 2.48341e-06, 6.45464e-06, 2.29188e-05, 1.52917e-05, 1.29351e-05, 6.64344e-06, 1.62068e-05, 5.36911e-05, 1.75187e-05, 3.43737e-06, 9.56317e-06, 3.64266e-06, 1.52386e-05, 4.69737e-05, 5.14888e-05, 1.76707e-05, 6.14047e-06, 2.13742e-06, 1.82782e-05, 1.12801e-05, 3.02188e-06, 1.76614e-05, 1.12688e-05, 6.83031e-06, 1.24208e-05, 4.34973e-06, 2.18491e-05, 8.3685e-06, 5.35556e-06, 6.34143e-06, 7.6204e-06, 6.39876e-06, 6.43857e-05, 2.69658e-07, 5.42124e-07, 1.47778e-05, 2.16583e-05, 2.59682e-06, 3.12816e-06, 2.30662e-06, 1.40097e-05, 5.67822e-06, 0.000363163, 1.59329e-05, 1.15301e-06, 9.44544e-06, 3.72324e-06, 1.22265e-05, 0.000806762, 0.00099505, 9.70287e-06, 0.000113762, 1.98224e-05, 0.00149083, 3.49482e-05, 3.91501e-05, 5.76245e-05, 1.88746e-05, 0.000111564, 2.42955e-06, 5.91673e-06, 0.000148145, 7.871e-06, 5.41987e-05, 4.03305e-05, 7.19774e-05, 2.8069e-05, 1.85602e-05, 0.000332372, 0.000106369, 2.5578e-05, 0.000128772, 2.40767e-06, 5.58317e-05, 3.74409e-05, 3.9009e-06, 6.42606e-06, 2.98883e-05, 1.42246e-05, 1.83793e-05, 1.46367e-05, 3.95448e-05, 1.10334e-05, 3.43602e-05, 2.60793e-06, 3.80555e-05, 2.96389e-05, 5.19786e-06, 4.64522e-05, 3.25146e-05, 0.000249263, 6.46832e-05, 5.73226e-06, 3.06602e-06, 4.69427e-06, 5.70199e-05, 1.70981e-05, 7.11168e-05, 7.41503e-05, 0.000107017, 1.96821e-05, 6.70481e-06, 5.5319e-05, 4.54414e-05, 4.19413e-05, 2.87931e-06, 0.000150691, 1.81593e-06, 4.16288e-05, 6.82653e-05, 3.10162e-05, 2.02528e-06, 6.36215e-05, 5.5103e-05, 3.3252e-06, 4.00209e-06, 2.26996e-05, 0.000178175, 4.67565e-05, 2.47194e-05, 0.000599539, 0.000410651, 1.97698e-06, 6.42352e-05, 5.4051e-06, 2.62019e-05, 9.96798e-06, 4.19559e-05, 2.39161e-05, 2.2533e-05, 0.000108463, 1.5972e-05, 0.000286798, 4.25043e-06, 7.67614e-06, 2.89967e-05, 1.69839e-06, 1.81577e-06, 9.16268e-06, 9.83314e-06, 3.91249e-06, 3.29612e-06, 1.02463e-05, 2.66454e-05, 6.83769e-06, 6.25718e-05, 3.66897e-05, 2.00367e-06, 4.74662e-06, 6.08045e-06, 1.12768e-05, 0.000358928, 4.03638e-06, 4.66233e-06, 0.000277856, 1.82531e-05, 4.49584e-05, 3.16344e-06, 0.0442672, 2.74162e-05, 0.000206557, 1.23783e-06, 1.80402e-05, 3.64457e-05, 0.00119544, 4.82105e-05, 9.57351e-06, 3.83078e-05, 1.58798e-05, 3.02378e-05, 1.05448e-05, 1.78385e-05, 1.60351e-06, 1.49762e-06, 9.98712e-07, 6.87461e-06, 8.39533e-06, 0.000194017, 0.000194531, 1.75148e-05, 3.60743e-05, 0.00026325, 0.000262922, 4.6963e-05, 1.91175e-05, 0.000363443, 2.68443e-05, 0.000168681, 0.000277758, 6.30275e-06, 1.51555e-06, 8.5858e-06, 2.4819e-06, 8.08373e-05, 3.48739e-05, 0.000123315, 0.0373007, 3.04381e-06, 0.000108786, 4.3896e-05, 8.8478e-05, 5.88857e-05, 0.00195615, 1.74234e-05, 1.98712e-06, 2.39856e-06, 0.000419336, 5.25368e-05, 4.95889e-06, 9.03744e-06, 0.1699, 8.85126e-05, 0.00905166, 3.27074e-06, 5.97355e-05, 1.10099e-05, 0.00120339, 5.40451e-06, 3.53665e-05, 4.93435e-06, 5.846e-05, 6.89963e-05, 2.24847e-05, 7.24224e-05, 6.86347e-05, 1.41065e-07, 2.09018e-05, 0.00366838, 2.90049e-05, 1.64109e-05, 4.73877e-05, 1.59406e-05, 2.1961e-05, 7.93823e-06, 7.14832e-05, 3.76577e-05, 0.00628883, 3.2231e-05, 8.29943e-05, 1.72669e-05, 2.25395e-06, 0.000119151, 4.28416e-06, 2.38612e-05, 0.00132546, 2.72368e-06, 1.48571e-05, 1.68783e-05, 2.84195e-06, 6.79432e-05, 0.00238114, 9.02906e-05, 7.85949e-06, 0.000177783, 1.17695e-05, 3.47619e-06, 1.75492e-05, 2.26459e-05, 7.25498e-05, 1.69421e-05, 4.46073e-06, 5.48215e-05, 0.000629577, 1.25316e-05, 9.80812e-07, 4.72893e-05, 0.00130087, 3.08456e-06, 0.000604787, 7.72043e-06, 8.78187e-07, 1.56134e-05, 5.1606e-06, 0.000174083, 3.60591e-07, 0.00545793, 1.07144e-05, 4.59019e-05, 0.000267115, 2.78789e-05, 7.38987e-06, 4.10806e-06, 9.42869e-05, 0.000312791, 2.67557e-05, 9.1127e-06, 5.07959e-06, 7.38913e-06, 4.30909e-06, 4.79365e-06, 2.56718e-06, 0.000111217, 1.96487e-05, 0.000467923, 0.000224702, 0.00156663, 5.77047e-05, 0.00011569, 0.000267987, 7.06586e-06, 3.43553e-06, 0.00237824, 0.00198758, 1.26744e-05, 6.74132e-06, 7.76787e-05, 0.000130704, 2.09401e-05, 8.60464e-06, 4.18707e-06, 1.125e-05, 4.97601e-05, 0.000609499, 0.000358484, 4.81354e-06, 1.22995e-05, 0.115414, 6.39397e-05, 3.59342e-06, 7.28354e-05, 2.08067e-07, 1.02258e-05, 1.43987e-05, 5.10417e-06, 5.98563e-05, 2.69332e-05, 4.48962e-06, 1.64712e-05, 4.63165e-06, 0.0001577, 2.77689e-06, 0.000313894, 0.000240245, 1.24923e-05, 9.96638e-05, 3.19093e-05, 1.43161e-05, 2.00659e-05, 1.48296e-05, 5.82821e-06, 3.40186e-05, 1.93177e-05, 8.55794e-06, 3.09736e-05, 2.39116e-05, 0.00013475, 0.000902074, 7.82241e-05, 0.000339342, 3.27803e-06, 7.82718e-07, 2.70632e-06, 1.11212e-05, 8.79534e-07, 3.23679e-06, 2.1824e-06, 1.52466e-05, 3.23456e-05, 0.0056621, 4.18662e-05, 3.29793e-06, 5.22225e-06, 2.65346e-06, 0.00010386, 3.61238e-06, 3.26987e-05, 1.44168e-05, 2.64775e-06, 3.02672e-05, 2.07286e-05, 6.35014e-07, 0.0010349, 0.000120689, 1.89701e-05, 0.00143488, 0.00122427, 4.08607e-05, 2.77662e-05, 5.62512e-05, 3.04827e-05, 3.65182e-05, 0.000278494, 1.3878e-06, 1.432e-05, 4.32014e-05, 0.000180095, 2.08596e-05, 2.81508e-05, 2.42991e-05, 2.37358e-06, 4.83489e-06, 8.58977e-07, 0.000266866, 3.2876e-05, 1.62078e-05, 0.000171538, 4.74526e-05, 0.000202391, 0.00100246, 2.81175e-05, 4.10222e-05, 2.46331e-05, 4.70246e-06, 0.000157223, 6.9423e-06, 0.000104187, 5.06262e-06, 0.000237199, 1.59209e-05, 1.31265e-05, 4.52396e-06, 2.76584e-05, 3.30195e-05, 3.6152e-05, 7.53286e-06, 5.85312e-06, 9.30731e-06, 0.000109782, 3.77216e-06, 4.04878e-05, 0.00083276, 6.56018e-06, 2.97533e-05, 7.9895e-05, 7.19403e-06, 2.85216e-05, 6.93705e-06, 0.000150861, 7.89628e-05, 1.80879e-05, 4.51904e-06, 7.48814e-06, 0.000284311, 0.000370582, 2.2551e-05, 3.92047e-07, 5.94012e-05, 2.30029e-05, 0.000177692, 4.08845e-06, 0.0001915, 1.69808e-05, 1.39281e-05, 5.93706e-05, 0.00859778, 8.92276e-06, 2.52856e-05, 1.1082e-06, 3.91429e-05, 2.87995e-05, 1.4476e-06, 1.42996e-05, 5.09417e-05, 3.2907e-05, 1.07755e-05, 1.17377e-05, 4.97909e-06, 2.44762e-06, 1.46709e-05, 4.5709e-05, 0.000531757, 0.000429554, 1.02305e-05, 0.00138796, 5.36537e-05, 5.59443e-06, 5.74546e-06, 1.1087e-05, 1.48804e-05, 1.63714e-05, 0.000717383, 0.000484416, 4.60416e-06, 1.22989e-06, 3.04257e-05, 4.32614e-05, 2.32723e-06, 1.86835e-05, 6.35208e-05, 2.56919e-05, 3.35049e-05, 0.000295776, 8.73877e-05, 1.11399e-05, 3.46562e-05, 1.2337e-05, 1.85506e-05, 4.19075e-06, 6.53878e-05, 5.0677e-05, 3.19454e-06, 5.8189e-05, 0.00014023, 9.87706e-05, 2.70629e-05, 1.03614e-05, 1.44266e-05, 0.00847451, 4.19235e-06, 1.07136e-05, 1.99549e-05, 3.45568e-05, 1.71649e-05, 3.77934e-05, 6.93644e-06, 0.348161, 4.00101e-05, 0.0097845, 0.157241, 1.92024e-05, 1.00632e-05, 7.32528e-05, 2.18548e-05, 0.000193356, 1.01072e-05, 0.000399012, 0.00031195, 1.28884e-05, 0.000130548, 3.81306e-06, 0.000128497, 0.00024163, 0.000379113, 7.91989e-05, 2.43012e-06, 6.26858e-06, 9.55554e-07, 4.41275e-05, 1.43433e-05, 2.57034e-05, 0.000152886, 7.41179e-05, 1.29478e-06, 4.73446e-06, 5.2828e-06, 4.42646e-06, 1.40645e-05, 5.45638e-06, 1.11177e-05, 8.57465e-05, 6.10937e-05, 8.36439e-05, 4.85455e-05, 0.000259043, 1.16769e-05, 6.56899e-06, 1.7636e-06, 1.61605e-06, 5.28044e-06, 2.08044e-05, 5.39137e-06, 7.35896e-06, 4.09693e-06, 1.39811e-05, 1.04114e-05, 3.37263e-05, 0.000829587, 9.64052e-05, 1.11881e-05, 1.00934e-05, 0.000142103, 3.98228e-05, 8.15895e-06, 5.26559e-06, 1.84133e-06, 1.35774e-06, 3.42732e-07, 4.3323e-07, 2.60686e-07, 6.93688e-07, 8.35095e-05, 1.22521e-06, 4.04242e-05, 4.3984e-05, 5.52076e-07, 6.77689e-06, 8.45596e-07, 3.83125e-06, 1.92088e-06, 4.78585e-06, 5.71444e-06, 5.38906e-07, 5.12801e-07, 1.27377e-06, 6.05535e-06, 1.82513e-06, 7.66171e-07, 2.49991e-06, 1.15402e-06, 2.73043e-06, 3.29333e-06, 1.34039e-05, 1.88603e-06, 2.46252e-06, 1.06744e-05, 9.7577e-06, 1.44153e-05, 2.77796e-06, 2.6569e-06, 0.00028214, 1.33183e-06, 1.28875e-06, 5.57769e-06, 1.055e-06, 1.58712e-06, 1.9193e-07, 1.67264e-06, 6.94159e-06, 2.36635e-05, 1.92489e-05, 3.82858e-06, 0.000257989, 2.85432e-05, 1.71494e-05, 8.42224e-06, 7.53933e-06, 5.53848e-05, 2.81793e-06, 0.000688436, 1.16843e-05, 6.41628e-06, 2.60489e-05, 5.08671e-05, 3.67794e-06, 1.70172e-05, 5.44156e-06, 2.19436e-06, 2.85248e-07, 5.79222e-05, 5.79985e-06, 3.09615e-06, 9.86257e-07, 1.00937e-06, 2.59603e-06, 9.49831e-07, 7.10183e-07, 2.7832e-06, 1.52804e-06, 1.71382e-06, 1.40116e-05, 3.4896e-05],\n",
      "            \"classes\": 865\n",
      "        }\n",
      "    ]\n",
      "}"
     ]
    },
    {
     "name": "stderr",
     "output_type": "stream",
     "text": [
      "\n",
      "usage: aws s3 cp <LocalPath> <S3Uri> or <S3Uri> <LocalPath> or <S3Uri> <S3Uri>\n",
      "Error: Invalid argument type\n"
     ]
    }
   ],
   "source": [
    "%%bash\n",
    "aws s3 cp {output_path}/00000b4dcff7f799.jpg.out .\n",
    "cat 00000b4dcff7f799.jpg.out"
   ]
  },
  {
   "cell_type": "code",
   "execution_count": 10,
   "metadata": {},
   "outputs": [
    {
     "name": "stdout",
     "output_type": "stream",
     "text": [
      "{'predictions': [{'probabilities': [7.4867e-07, 1.54555e-06, 3.04351e-06, 1.9618e-05, 6.92251e-06, 3.16003e-06, 1.9662e-05, 2.82171e-06, 3.88347e-05, 1.60989e-05, 1.53455e-05, 6.01256e-07, 2.78777e-06, 1.11208e-05, 7.98601e-07, 6.55136e-06, 3.26973e-06, 5.61107e-07, 5.62262e-06, 5.54361e-06, 2.101e-06, 9.41294e-07, 2.31893e-06, 3.48475e-06, 1.09363e-05, 4.11321e-06, 1.24613e-06, 9.51377e-07, 1.52575e-06, 1.21844e-06, 2.03722e-06, 1.32383e-06, 9.15459e-07, 1.98695e-06, 2.21266e-05, 5.08505e-06, 1.00016e-06, 2.03871e-06, 2.25159e-06, 5.01501e-07, 8.18206e-06, 9.78015e-07, 1.04662e-06, 1.79995e-06, 3.17813e-07, 1.0223e-06, 6.08684e-06, 6.15803e-07, 2.22039e-07, 1.18294e-05, 7.58449e-07, 4.56728e-06, 2.53492e-05, 2.34767e-06, 4.40761e-06, 5.03574e-06, 2.55696e-06, 2.91377e-06, 1.21964e-06, 2.48978e-06, 2.16967e-06, 1.89516e-05, 7.04591e-06, 4.72159e-06, 2.83891e-06, 1.44539e-06, 8.43768e-06, 7.74085e-07, 6.74909e-06, 1.45149e-06, 3.51812e-06, 5.45966e-07, 1.93929e-06, 5.98564e-07, 7.00473e-06, 2.43815e-06, 2.59484e-06, 8.97997e-06, 6.55444e-06, 5.25404e-06, 5.0285e-06, 8.71914e-07, 1.32651e-06, 1.55956e-06, 2.03237e-06, 3.18115e-06, 7.58096e-06, 1.59917e-06, 4.70789e-06, 2.42121e-05, 3.08397e-06, 1.94617e-06, 6.37647e-07, 1.9833e-07, 1.89341e-06, 6.49576e-06, 2.26786e-07, 8.24176e-07, 5.48275e-07, 3.90787e-07, 1.02798e-06, 1.90138e-06, 1.25141e-05, 5.02119e-06, 1.81843e-06, 5.4419e-06, 3.50591e-06, 4.78197e-06, 3.98532e-06, 1.46712e-06, 8.31561e-07, 3.4249e-07, 2.98321e-06, 3.84331e-05, 9.89146e-07, 3.68916e-06, 8.45359e-08, 4.49665e-07, 2.75904e-06, 1.41001e-05, 2.11505e-06, 5.59626e-06, 8.12388e-06, 1.28056e-05, 2.71052e-05, 3.36066e-05, 2.44377e-06, 8.85798e-07, 3.97557e-06, 8.35989e-07, 1.10432e-06, 1.53758e-05, 5.46162e-06, 3.30091e-06, 4.38374e-07, 1.70261e-05, 1.43242e-06, 2.47975e-06, 3.60636e-06, 3.52148e-07, 6.69026e-07, 2.18782e-06, 7.16815e-07, 5.55024e-07, 6.93186e-07, 2.14249e-06, 2.18993e-06, 2.68655e-06, 5.76281e-06, 1.09909e-05, 9.89717e-07, 3.23633e-05, 2.51161e-05, 3.81393e-06, 5.47632e-06, 2.20592e-05, 5.71014e-06, 8.73332e-05, 4.11533e-05, 2.67744e-06, 8.05985e-05, 0.00015827, 0.000141452, 4.27447e-05, 0.000179984, 8.52002e-05, 2.09768e-05, 2.43967e-05, 1.16044e-05, 4.25299e-05, 6.08494e-05, 0.000154262, 2.15211e-05, 3.95735e-05, 8.47291e-05, 8.13256e-06, 1.44826e-05, 0.000105198, 0.000105236, 3.76283e-05, 3.79916e-05, 4.81319e-05, 9.93731e-06, 3.91087e-05, 7.08649e-05, 8.10011e-05, 3.78815e-05, 9.84512e-06, 8.71999e-06, 7.13479e-06, 0.000181076, 1.72853e-05, 3.12809e-05, 9.61283e-06, 1.08026e-05, 1.18413e-05, 1.45701e-05, 1.26885e-05, 5.77421e-05, 3.54646e-05, 3.75067e-05, 1.82236e-05, 8.99749e-06, 8.28628e-05, 3.64026e-05, 2.6475e-05, 2.28352e-05, 2.22306e-05, 1.29573e-05, 4.93564e-05, 6.20425e-05, 1.326e-05, 4.69414e-05, 0.000116987, 0.000111035, 5.54465e-05, 2.42494e-05, 0.000188316, 7.80753e-05, 2.18977e-05, 4.76861e-05, 5.6408e-05, 0.000117616, 3.39192e-05, 5.57561e-05, 5.40521e-05, 0.00011997, 0.000209919, 0.000124256, 4.77043e-05, 2.98871e-05, 2.14803e-05, 6.74153e-05, 5.22631e-05, 0.00015958, 3.41879e-05, 3.4825e-05, 3.24685e-05, 1.4535e-05, 0.000245628, 8.5397e-05, 0.000126022, 0.000122216, 2.51767e-05, 6.81328e-05, 0.000242488, 4.85389e-05, 6.92153e-05, 0.000124231, 4.02954e-05, 8.85796e-05, 4.26407e-05, 0.000241984, 4.49174e-06, 4.41368e-05, 2.30566e-05, 0.00041567, 0.000655778, 9.8698e-05, 1.07763e-05, 3.90003e-06, 1.77999e-05, 2.27052e-05, 2.34383e-05, 3.03612e-06, 3.10501e-05, 1.32618e-05, 5.40036e-06, 2.12189e-05, 5.45917e-05, 1.9122e-05, 1.79708e-05, 2.24228e-06, 3.32971e-06, 0.000207501, 3.11776e-06, 4.8458e-06, 3.80184e-06, 6.82007e-06, 2.05456e-05, 2.97607e-06, 1.60717e-05, 6.14315e-06, 1.04464e-05, 1.38708e-05, 1.59826e-06, 4.64852e-06, 1.22024e-06, 2.21158e-06, 2.39586e-06, 5.56316e-07, 2.50847e-06, 2.75442e-06, 9.38328e-06, 4.35841e-06, 2.37495e-06, 1.78955e-05, 3.81965e-06, 3.11158e-06, 3.6403e-06, 9.71356e-06, 1.49841e-06, 2.5804e-06, 2.2892e-06, 1.27264e-06, 1.43136e-06, 5.93823e-06, 4.87443e-06, 1.85572e-06, 9.59039e-07, 2.3589e-06, 1.10553e-05, 1.37511e-06, 1.69286e-06, 6.36504e-06, 1.65469e-05, 1.762e-06, 1.59402e-06, 1.1007e-06, 2.82958e-07, 3.02472e-07, 4.6903e-07, 2.86206e-06, 4.29645e-07, 1.1644e-06, 7.27171e-07, 2.32862e-07, 3.54264e-07, 3.82208e-06, 1.08882e-06, 6.83158e-06, 2.1624e-05, 7.76821e-06, 1.96434e-05, 1.99797e-06, 8.33799e-06, 3.62007e-06, 8.18325e-06, 9.19751e-06, 2.27224e-05, 4.76325e-05, 6.00586e-06, 0.000218237, 6.88136e-05, 5.73158e-05, 4.38772e-06, 0.000508333, 6.49696e-06, 4.20552e-05, 0.000332511, 3.48424e-05, 6.61304e-06, 2.17556e-06, 5.32068e-06, 6.03693e-06, 0.000110339, 0.000437352, 6.60036e-06, 9.59402e-06, 5.79062e-06, 2.48341e-06, 6.45464e-06, 2.29188e-05, 1.52917e-05, 1.29351e-05, 6.64344e-06, 1.62068e-05, 5.36911e-05, 1.75187e-05, 3.43737e-06, 9.56317e-06, 3.64266e-06, 1.52386e-05, 4.69737e-05, 5.14888e-05, 1.76707e-05, 6.14047e-06, 2.13742e-06, 1.82782e-05, 1.12801e-05, 3.02188e-06, 1.76614e-05, 1.12688e-05, 6.83031e-06, 1.24208e-05, 4.34973e-06, 2.18491e-05, 8.3685e-06, 5.35556e-06, 6.34143e-06, 7.6204e-06, 6.39876e-06, 6.43857e-05, 2.69658e-07, 5.42124e-07, 1.47778e-05, 2.16583e-05, 2.59682e-06, 3.12816e-06, 2.30662e-06, 1.40097e-05, 5.67822e-06, 0.000363163, 1.59329e-05, 1.15301e-06, 9.44544e-06, 3.72324e-06, 1.22265e-05, 0.000806762, 0.00099505, 9.70287e-06, 0.000113762, 1.98224e-05, 0.00149083, 3.49482e-05, 3.91501e-05, 5.76245e-05, 1.88746e-05, 0.000111564, 2.42955e-06, 5.91673e-06, 0.000148145, 7.871e-06, 5.41987e-05, 4.03305e-05, 7.19774e-05, 2.8069e-05, 1.85602e-05, 0.000332372, 0.000106369, 2.5578e-05, 0.000128772, 2.40767e-06, 5.58317e-05, 3.74409e-05, 3.9009e-06, 6.42606e-06, 2.98883e-05, 1.42246e-05, 1.83793e-05, 1.46367e-05, 3.95448e-05, 1.10334e-05, 3.43602e-05, 2.60793e-06, 3.80555e-05, 2.96389e-05, 5.19786e-06, 4.64522e-05, 3.25146e-05, 0.000249263, 6.46832e-05, 5.73226e-06, 3.06602e-06, 4.69427e-06, 5.70199e-05, 1.70981e-05, 7.11168e-05, 7.41503e-05, 0.000107017, 1.96821e-05, 6.70481e-06, 5.5319e-05, 4.54414e-05, 4.19413e-05, 2.87931e-06, 0.000150691, 1.81593e-06, 4.16288e-05, 6.82653e-05, 3.10162e-05, 2.02528e-06, 6.36215e-05, 5.5103e-05, 3.3252e-06, 4.00209e-06, 2.26996e-05, 0.000178175, 4.67565e-05, 2.47194e-05, 0.000599539, 0.000410651, 1.97698e-06, 6.42352e-05, 5.4051e-06, 2.62019e-05, 9.96798e-06, 4.19559e-05, 2.39161e-05, 2.2533e-05, 0.000108463, 1.5972e-05, 0.000286798, 4.25043e-06, 7.67614e-06, 2.89967e-05, 1.69839e-06, 1.81577e-06, 9.16268e-06, 9.83314e-06, 3.91249e-06, 3.29612e-06, 1.02463e-05, 2.66454e-05, 6.83769e-06, 6.25718e-05, 3.66897e-05, 2.00367e-06, 4.74662e-06, 6.08045e-06, 1.12768e-05, 0.000358928, 4.03638e-06, 4.66233e-06, 0.000277856, 1.82531e-05, 4.49584e-05, 3.16344e-06, 0.0442672, 2.74162e-05, 0.000206557, 1.23783e-06, 1.80402e-05, 3.64457e-05, 0.00119544, 4.82105e-05, 9.57351e-06, 3.83078e-05, 1.58798e-05, 3.02378e-05, 1.05448e-05, 1.78385e-05, 1.60351e-06, 1.49762e-06, 9.98712e-07, 6.87461e-06, 8.39533e-06, 0.000194017, 0.000194531, 1.75148e-05, 3.60743e-05, 0.00026325, 0.000262922, 4.6963e-05, 1.91175e-05, 0.000363443, 2.68443e-05, 0.000168681, 0.000277758, 6.30275e-06, 1.51555e-06, 8.5858e-06, 2.4819e-06, 8.08373e-05, 3.48739e-05, 0.000123315, 0.0373007, 3.04381e-06, 0.000108786, 4.3896e-05, 8.8478e-05, 5.88857e-05, 0.00195615, 1.74234e-05, 1.98712e-06, 2.39856e-06, 0.000419336, 5.25368e-05, 4.95889e-06, 9.03744e-06, 0.1699, 8.85126e-05, 0.00905166, 3.27074e-06, 5.97355e-05, 1.10099e-05, 0.00120339, 5.40451e-06, 3.53665e-05, 4.93435e-06, 5.846e-05, 6.89963e-05, 2.24847e-05, 7.24224e-05, 6.86347e-05, 1.41065e-07, 2.09018e-05, 0.00366838, 2.90049e-05, 1.64109e-05, 4.73877e-05, 1.59406e-05, 2.1961e-05, 7.93823e-06, 7.14832e-05, 3.76577e-05, 0.00628883, 3.2231e-05, 8.29943e-05, 1.72669e-05, 2.25395e-06, 0.000119151, 4.28416e-06, 2.38612e-05, 0.00132546, 2.72368e-06, 1.48571e-05, 1.68783e-05, 2.84195e-06, 6.79432e-05, 0.00238114, 9.02906e-05, 7.85949e-06, 0.000177783, 1.17695e-05, 3.47619e-06, 1.75492e-05, 2.26459e-05, 7.25498e-05, 1.69421e-05, 4.46073e-06, 5.48215e-05, 0.000629577, 1.25316e-05, 9.80812e-07, 4.72893e-05, 0.00130087, 3.08456e-06, 0.000604787, 7.72043e-06, 8.78187e-07, 1.56134e-05, 5.1606e-06, 0.000174083, 3.60591e-07, 0.00545793, 1.07144e-05, 4.59019e-05, 0.000267115, 2.78789e-05, 7.38987e-06, 4.10806e-06, 9.42869e-05, 0.000312791, 2.67557e-05, 9.1127e-06, 5.07959e-06, 7.38913e-06, 4.30909e-06, 4.79365e-06, 2.56718e-06, 0.000111217, 1.96487e-05, 0.000467923, 0.000224702, 0.00156663, 5.77047e-05, 0.00011569, 0.000267987, 7.06586e-06, 3.43553e-06, 0.00237824, 0.00198758, 1.26744e-05, 6.74132e-06, 7.76787e-05, 0.000130704, 2.09401e-05, 8.60464e-06, 4.18707e-06, 1.125e-05, 4.97601e-05, 0.000609499, 0.000358484, 4.81354e-06, 1.22995e-05, 0.115414, 6.39397e-05, 3.59342e-06, 7.28354e-05, 2.08067e-07, 1.02258e-05, 1.43987e-05, 5.10417e-06, 5.98563e-05, 2.69332e-05, 4.48962e-06, 1.64712e-05, 4.63165e-06, 0.0001577, 2.77689e-06, 0.000313894, 0.000240245, 1.24923e-05, 9.96638e-05, 3.19093e-05, 1.43161e-05, 2.00659e-05, 1.48296e-05, 5.82821e-06, 3.40186e-05, 1.93177e-05, 8.55794e-06, 3.09736e-05, 2.39116e-05, 0.00013475, 0.000902074, 7.82241e-05, 0.000339342, 3.27803e-06, 7.82718e-07, 2.70632e-06, 1.11212e-05, 8.79534e-07, 3.23679e-06, 2.1824e-06, 1.52466e-05, 3.23456e-05, 0.0056621, 4.18662e-05, 3.29793e-06, 5.22225e-06, 2.65346e-06, 0.00010386, 3.61238e-06, 3.26987e-05, 1.44168e-05, 2.64775e-06, 3.02672e-05, 2.07286e-05, 6.35014e-07, 0.0010349, 0.000120689, 1.89701e-05, 0.00143488, 0.00122427, 4.08607e-05, 2.77662e-05, 5.62512e-05, 3.04827e-05, 3.65182e-05, 0.000278494, 1.3878e-06, 1.432e-05, 4.32014e-05, 0.000180095, 2.08596e-05, 2.81508e-05, 2.42991e-05, 2.37358e-06, 4.83489e-06, 8.58977e-07, 0.000266866, 3.2876e-05, 1.62078e-05, 0.000171538, 4.74526e-05, 0.000202391, 0.00100246, 2.81175e-05, 4.10222e-05, 2.46331e-05, 4.70246e-06, 0.000157223, 6.9423e-06, 0.000104187, 5.06262e-06, 0.000237199, 1.59209e-05, 1.31265e-05, 4.52396e-06, 2.76584e-05, 3.30195e-05, 3.6152e-05, 7.53286e-06, 5.85312e-06, 9.30731e-06, 0.000109782, 3.77216e-06, 4.04878e-05, 0.00083276, 6.56018e-06, 2.97533e-05, 7.9895e-05, 7.19403e-06, 2.85216e-05, 6.93705e-06, 0.000150861, 7.89628e-05, 1.80879e-05, 4.51904e-06, 7.48814e-06, 0.000284311, 0.000370582, 2.2551e-05, 3.92047e-07, 5.94012e-05, 2.30029e-05, 0.000177692, 4.08845e-06, 0.0001915, 1.69808e-05, 1.39281e-05, 5.93706e-05, 0.00859778, 8.92276e-06, 2.52856e-05, 1.1082e-06, 3.91429e-05, 2.87995e-05, 1.4476e-06, 1.42996e-05, 5.09417e-05, 3.2907e-05, 1.07755e-05, 1.17377e-05, 4.97909e-06, 2.44762e-06, 1.46709e-05, 4.5709e-05, 0.000531757, 0.000429554, 1.02305e-05, 0.00138796, 5.36537e-05, 5.59443e-06, 5.74546e-06, 1.1087e-05, 1.48804e-05, 1.63714e-05, 0.000717383, 0.000484416, 4.60416e-06, 1.22989e-06, 3.04257e-05, 4.32614e-05, 2.32723e-06, 1.86835e-05, 6.35208e-05, 2.56919e-05, 3.35049e-05, 0.000295776, 8.73877e-05, 1.11399e-05, 3.46562e-05, 1.2337e-05, 1.85506e-05, 4.19075e-06, 6.53878e-05, 5.0677e-05, 3.19454e-06, 5.8189e-05, 0.00014023, 9.87706e-05, 2.70629e-05, 1.03614e-05, 1.44266e-05, 0.00847451, 4.19235e-06, 1.07136e-05, 1.99549e-05, 3.45568e-05, 1.71649e-05, 3.77934e-05, 6.93644e-06, 0.348161, 4.00101e-05, 0.0097845, 0.157241, 1.92024e-05, 1.00632e-05, 7.32528e-05, 2.18548e-05, 0.000193356, 1.01072e-05, 0.000399012, 0.00031195, 1.28884e-05, 0.000130548, 3.81306e-06, 0.000128497, 0.00024163, 0.000379113, 7.91989e-05, 2.43012e-06, 6.26858e-06, 9.55554e-07, 4.41275e-05, 1.43433e-05, 2.57034e-05, 0.000152886, 7.41179e-05, 1.29478e-06, 4.73446e-06, 5.2828e-06, 4.42646e-06, 1.40645e-05, 5.45638e-06, 1.11177e-05, 8.57465e-05, 6.10937e-05, 8.36439e-05, 4.85455e-05, 0.000259043, 1.16769e-05, 6.56899e-06, 1.7636e-06, 1.61605e-06, 5.28044e-06, 2.08044e-05, 5.39137e-06, 7.35896e-06, 4.09693e-06, 1.39811e-05, 1.04114e-05, 3.37263e-05, 0.000829587, 9.64052e-05, 1.11881e-05, 1.00934e-05, 0.000142103, 3.98228e-05, 8.15895e-06, 5.26559e-06, 1.84133e-06, 1.35774e-06, 3.42732e-07, 4.3323e-07, 2.60686e-07, 6.93688e-07, 8.35095e-05, 1.22521e-06, 4.04242e-05, 4.3984e-05, 5.52076e-07, 6.77689e-06, 8.45596e-07, 3.83125e-06, 1.92088e-06, 4.78585e-06, 5.71444e-06, 5.38906e-07, 5.12801e-07, 1.27377e-06, 6.05535e-06, 1.82513e-06, 7.66171e-07, 2.49991e-06, 1.15402e-06, 2.73043e-06, 3.29333e-06, 1.34039e-05, 1.88603e-06, 2.46252e-06, 1.06744e-05, 9.7577e-06, 1.44153e-05, 2.77796e-06, 2.6569e-06, 0.00028214, 1.33183e-06, 1.28875e-06, 5.57769e-06, 1.055e-06, 1.58712e-06, 1.9193e-07, 1.67264e-06, 6.94159e-06, 2.36635e-05, 1.92489e-05, 3.82858e-06, 0.000257989, 2.85432e-05, 1.71494e-05, 8.42224e-06, 7.53933e-06, 5.53848e-05, 2.81793e-06, 0.000688436, 1.16843e-05, 6.41628e-06, 2.60489e-05, 5.08671e-05, 3.67794e-06, 1.70172e-05, 5.44156e-06, 2.19436e-06, 2.85248e-07, 5.79222e-05, 5.79985e-06, 3.09615e-06, 9.86257e-07, 1.00937e-06, 2.59603e-06, 9.49831e-07, 7.10183e-07, 2.7832e-06, 1.52804e-06, 1.71382e-06, 1.40116e-05, 3.4896e-05], 'classes': 865}]}\n",
      "<class 'dict'>\n",
      "[7.4867e-07, 1.54555e-06, 3.04351e-06, 1.9618e-05, 6.92251e-06, 3.16003e-06, 1.9662e-05, 2.82171e-06, 3.88347e-05, 1.60989e-05, 1.53455e-05, 6.01256e-07, 2.78777e-06, 1.11208e-05, 7.98601e-07, 6.55136e-06, 3.26973e-06, 5.61107e-07, 5.62262e-06, 5.54361e-06, 2.101e-06, 9.41294e-07, 2.31893e-06, 3.48475e-06, 1.09363e-05, 4.11321e-06, 1.24613e-06, 9.51377e-07, 1.52575e-06, 1.21844e-06, 2.03722e-06, 1.32383e-06, 9.15459e-07, 1.98695e-06, 2.21266e-05, 5.08505e-06, 1.00016e-06, 2.03871e-06, 2.25159e-06, 5.01501e-07, 8.18206e-06, 9.78015e-07, 1.04662e-06, 1.79995e-06, 3.17813e-07, 1.0223e-06, 6.08684e-06, 6.15803e-07, 2.22039e-07, 1.18294e-05, 7.58449e-07, 4.56728e-06, 2.53492e-05, 2.34767e-06, 4.40761e-06, 5.03574e-06, 2.55696e-06, 2.91377e-06, 1.21964e-06, 2.48978e-06, 2.16967e-06, 1.89516e-05, 7.04591e-06, 4.72159e-06, 2.83891e-06, 1.44539e-06, 8.43768e-06, 7.74085e-07, 6.74909e-06, 1.45149e-06, 3.51812e-06, 5.45966e-07, 1.93929e-06, 5.98564e-07, 7.00473e-06, 2.43815e-06, 2.59484e-06, 8.97997e-06, 6.55444e-06, 5.25404e-06, 5.0285e-06, 8.71914e-07, 1.32651e-06, 1.55956e-06, 2.03237e-06, 3.18115e-06, 7.58096e-06, 1.59917e-06, 4.70789e-06, 2.42121e-05, 3.08397e-06, 1.94617e-06, 6.37647e-07, 1.9833e-07, 1.89341e-06, 6.49576e-06, 2.26786e-07, 8.24176e-07, 5.48275e-07, 3.90787e-07, 1.02798e-06, 1.90138e-06, 1.25141e-05, 5.02119e-06, 1.81843e-06, 5.4419e-06, 3.50591e-06, 4.78197e-06, 3.98532e-06, 1.46712e-06, 8.31561e-07, 3.4249e-07, 2.98321e-06, 3.84331e-05, 9.89146e-07, 3.68916e-06, 8.45359e-08, 4.49665e-07, 2.75904e-06, 1.41001e-05, 2.11505e-06, 5.59626e-06, 8.12388e-06, 1.28056e-05, 2.71052e-05, 3.36066e-05, 2.44377e-06, 8.85798e-07, 3.97557e-06, 8.35989e-07, 1.10432e-06, 1.53758e-05, 5.46162e-06, 3.30091e-06, 4.38374e-07, 1.70261e-05, 1.43242e-06, 2.47975e-06, 3.60636e-06, 3.52148e-07, 6.69026e-07, 2.18782e-06, 7.16815e-07, 5.55024e-07, 6.93186e-07, 2.14249e-06, 2.18993e-06, 2.68655e-06, 5.76281e-06, 1.09909e-05, 9.89717e-07, 3.23633e-05, 2.51161e-05, 3.81393e-06, 5.47632e-06, 2.20592e-05, 5.71014e-06, 8.73332e-05, 4.11533e-05, 2.67744e-06, 8.05985e-05, 0.00015827, 0.000141452, 4.27447e-05, 0.000179984, 8.52002e-05, 2.09768e-05, 2.43967e-05, 1.16044e-05, 4.25299e-05, 6.08494e-05, 0.000154262, 2.15211e-05, 3.95735e-05, 8.47291e-05, 8.13256e-06, 1.44826e-05, 0.000105198, 0.000105236, 3.76283e-05, 3.79916e-05, 4.81319e-05, 9.93731e-06, 3.91087e-05, 7.08649e-05, 8.10011e-05, 3.78815e-05, 9.84512e-06, 8.71999e-06, 7.13479e-06, 0.000181076, 1.72853e-05, 3.12809e-05, 9.61283e-06, 1.08026e-05, 1.18413e-05, 1.45701e-05, 1.26885e-05, 5.77421e-05, 3.54646e-05, 3.75067e-05, 1.82236e-05, 8.99749e-06, 8.28628e-05, 3.64026e-05, 2.6475e-05, 2.28352e-05, 2.22306e-05, 1.29573e-05, 4.93564e-05, 6.20425e-05, 1.326e-05, 4.69414e-05, 0.000116987, 0.000111035, 5.54465e-05, 2.42494e-05, 0.000188316, 7.80753e-05, 2.18977e-05, 4.76861e-05, 5.6408e-05, 0.000117616, 3.39192e-05, 5.57561e-05, 5.40521e-05, 0.00011997, 0.000209919, 0.000124256, 4.77043e-05, 2.98871e-05, 2.14803e-05, 6.74153e-05, 5.22631e-05, 0.00015958, 3.41879e-05, 3.4825e-05, 3.24685e-05, 1.4535e-05, 0.000245628, 8.5397e-05, 0.000126022, 0.000122216, 2.51767e-05, 6.81328e-05, 0.000242488, 4.85389e-05, 6.92153e-05, 0.000124231, 4.02954e-05, 8.85796e-05, 4.26407e-05, 0.000241984, 4.49174e-06, 4.41368e-05, 2.30566e-05, 0.00041567, 0.000655778, 9.8698e-05, 1.07763e-05, 3.90003e-06, 1.77999e-05, 2.27052e-05, 2.34383e-05, 3.03612e-06, 3.10501e-05, 1.32618e-05, 5.40036e-06, 2.12189e-05, 5.45917e-05, 1.9122e-05, 1.79708e-05, 2.24228e-06, 3.32971e-06, 0.000207501, 3.11776e-06, 4.8458e-06, 3.80184e-06, 6.82007e-06, 2.05456e-05, 2.97607e-06, 1.60717e-05, 6.14315e-06, 1.04464e-05, 1.38708e-05, 1.59826e-06, 4.64852e-06, 1.22024e-06, 2.21158e-06, 2.39586e-06, 5.56316e-07, 2.50847e-06, 2.75442e-06, 9.38328e-06, 4.35841e-06, 2.37495e-06, 1.78955e-05, 3.81965e-06, 3.11158e-06, 3.6403e-06, 9.71356e-06, 1.49841e-06, 2.5804e-06, 2.2892e-06, 1.27264e-06, 1.43136e-06, 5.93823e-06, 4.87443e-06, 1.85572e-06, 9.59039e-07, 2.3589e-06, 1.10553e-05, 1.37511e-06, 1.69286e-06, 6.36504e-06, 1.65469e-05, 1.762e-06, 1.59402e-06, 1.1007e-06, 2.82958e-07, 3.02472e-07, 4.6903e-07, 2.86206e-06, 4.29645e-07, 1.1644e-06, 7.27171e-07, 2.32862e-07, 3.54264e-07, 3.82208e-06, 1.08882e-06, 6.83158e-06, 2.1624e-05, 7.76821e-06, 1.96434e-05, 1.99797e-06, 8.33799e-06, 3.62007e-06, 8.18325e-06, 9.19751e-06, 2.27224e-05, 4.76325e-05, 6.00586e-06, 0.000218237, 6.88136e-05, 5.73158e-05, 4.38772e-06, 0.000508333, 6.49696e-06, 4.20552e-05, 0.000332511, 3.48424e-05, 6.61304e-06, 2.17556e-06, 5.32068e-06, 6.03693e-06, 0.000110339, 0.000437352, 6.60036e-06, 9.59402e-06, 5.79062e-06, 2.48341e-06, 6.45464e-06, 2.29188e-05, 1.52917e-05, 1.29351e-05, 6.64344e-06, 1.62068e-05, 5.36911e-05, 1.75187e-05, 3.43737e-06, 9.56317e-06, 3.64266e-06, 1.52386e-05, 4.69737e-05, 5.14888e-05, 1.76707e-05, 6.14047e-06, 2.13742e-06, 1.82782e-05, 1.12801e-05, 3.02188e-06, 1.76614e-05, 1.12688e-05, 6.83031e-06, 1.24208e-05, 4.34973e-06, 2.18491e-05, 8.3685e-06, 5.35556e-06, 6.34143e-06, 7.6204e-06, 6.39876e-06, 6.43857e-05, 2.69658e-07, 5.42124e-07, 1.47778e-05, 2.16583e-05, 2.59682e-06, 3.12816e-06, 2.30662e-06, 1.40097e-05, 5.67822e-06, 0.000363163, 1.59329e-05, 1.15301e-06, 9.44544e-06, 3.72324e-06, 1.22265e-05, 0.000806762, 0.00099505, 9.70287e-06, 0.000113762, 1.98224e-05, 0.00149083, 3.49482e-05, 3.91501e-05, 5.76245e-05, 1.88746e-05, 0.000111564, 2.42955e-06, 5.91673e-06, 0.000148145, 7.871e-06, 5.41987e-05, 4.03305e-05, 7.19774e-05, 2.8069e-05, 1.85602e-05, 0.000332372, 0.000106369, 2.5578e-05, 0.000128772, 2.40767e-06, 5.58317e-05, 3.74409e-05, 3.9009e-06, 6.42606e-06, 2.98883e-05, 1.42246e-05, 1.83793e-05, 1.46367e-05, 3.95448e-05, 1.10334e-05, 3.43602e-05, 2.60793e-06, 3.80555e-05, 2.96389e-05, 5.19786e-06, 4.64522e-05, 3.25146e-05, 0.000249263, 6.46832e-05, 5.73226e-06, 3.06602e-06, 4.69427e-06, 5.70199e-05, 1.70981e-05, 7.11168e-05, 7.41503e-05, 0.000107017, 1.96821e-05, 6.70481e-06, 5.5319e-05, 4.54414e-05, 4.19413e-05, 2.87931e-06, 0.000150691, 1.81593e-06, 4.16288e-05, 6.82653e-05, 3.10162e-05, 2.02528e-06, 6.36215e-05, 5.5103e-05, 3.3252e-06, 4.00209e-06, 2.26996e-05, 0.000178175, 4.67565e-05, 2.47194e-05, 0.000599539, 0.000410651, 1.97698e-06, 6.42352e-05, 5.4051e-06, 2.62019e-05, 9.96798e-06, 4.19559e-05, 2.39161e-05, 2.2533e-05, 0.000108463, 1.5972e-05, 0.000286798, 4.25043e-06, 7.67614e-06, 2.89967e-05, 1.69839e-06, 1.81577e-06, 9.16268e-06, 9.83314e-06, 3.91249e-06, 3.29612e-06, 1.02463e-05, 2.66454e-05, 6.83769e-06, 6.25718e-05, 3.66897e-05, 2.00367e-06, 4.74662e-06, 6.08045e-06, 1.12768e-05, 0.000358928, 4.03638e-06, 4.66233e-06, 0.000277856, 1.82531e-05, 4.49584e-05, 3.16344e-06, 0.0442672, 2.74162e-05, 0.000206557, 1.23783e-06, 1.80402e-05, 3.64457e-05, 0.00119544, 4.82105e-05, 9.57351e-06, 3.83078e-05, 1.58798e-05, 3.02378e-05, 1.05448e-05, 1.78385e-05, 1.60351e-06, 1.49762e-06, 9.98712e-07, 6.87461e-06, 8.39533e-06, 0.000194017, 0.000194531, 1.75148e-05, 3.60743e-05, 0.00026325, 0.000262922, 4.6963e-05, 1.91175e-05, 0.000363443, 2.68443e-05, 0.000168681, 0.000277758, 6.30275e-06, 1.51555e-06, 8.5858e-06, 2.4819e-06, 8.08373e-05, 3.48739e-05, 0.000123315, 0.0373007, 3.04381e-06, 0.000108786, 4.3896e-05, 8.8478e-05, 5.88857e-05, 0.00195615, 1.74234e-05, 1.98712e-06, 2.39856e-06, 0.000419336, 5.25368e-05, 4.95889e-06, 9.03744e-06, 0.1699, 8.85126e-05, 0.00905166, 3.27074e-06, 5.97355e-05, 1.10099e-05, 0.00120339, 5.40451e-06, 3.53665e-05, 4.93435e-06, 5.846e-05, 6.89963e-05, 2.24847e-05, 7.24224e-05, 6.86347e-05, 1.41065e-07, 2.09018e-05, 0.00366838, 2.90049e-05, 1.64109e-05, 4.73877e-05, 1.59406e-05, 2.1961e-05, 7.93823e-06, 7.14832e-05, 3.76577e-05, 0.00628883, 3.2231e-05, 8.29943e-05, 1.72669e-05, 2.25395e-06, 0.000119151, 4.28416e-06, 2.38612e-05, 0.00132546, 2.72368e-06, 1.48571e-05, 1.68783e-05, 2.84195e-06, 6.79432e-05, 0.00238114, 9.02906e-05, 7.85949e-06, 0.000177783, 1.17695e-05, 3.47619e-06, 1.75492e-05, 2.26459e-05, 7.25498e-05, 1.69421e-05, 4.46073e-06, 5.48215e-05, 0.000629577, 1.25316e-05, 9.80812e-07, 4.72893e-05, 0.00130087, 3.08456e-06, 0.000604787, 7.72043e-06, 8.78187e-07, 1.56134e-05, 5.1606e-06, 0.000174083, 3.60591e-07, 0.00545793, 1.07144e-05, 4.59019e-05, 0.000267115, 2.78789e-05, 7.38987e-06, 4.10806e-06, 9.42869e-05, 0.000312791, 2.67557e-05, 9.1127e-06, 5.07959e-06, 7.38913e-06, 4.30909e-06, 4.79365e-06, 2.56718e-06, 0.000111217, 1.96487e-05, 0.000467923, 0.000224702, 0.00156663, 5.77047e-05, 0.00011569, 0.000267987, 7.06586e-06, 3.43553e-06, 0.00237824, 0.00198758, 1.26744e-05, 6.74132e-06, 7.76787e-05, 0.000130704, 2.09401e-05, 8.60464e-06, 4.18707e-06, 1.125e-05, 4.97601e-05, 0.000609499, 0.000358484, 4.81354e-06, 1.22995e-05, 0.115414, 6.39397e-05, 3.59342e-06, 7.28354e-05, 2.08067e-07, 1.02258e-05, 1.43987e-05, 5.10417e-06, 5.98563e-05, 2.69332e-05, 4.48962e-06, 1.64712e-05, 4.63165e-06, 0.0001577, 2.77689e-06, 0.000313894, 0.000240245, 1.24923e-05, 9.96638e-05, 3.19093e-05, 1.43161e-05, 2.00659e-05, 1.48296e-05, 5.82821e-06, 3.40186e-05, 1.93177e-05, 8.55794e-06, 3.09736e-05, 2.39116e-05, 0.00013475, 0.000902074, 7.82241e-05, 0.000339342, 3.27803e-06, 7.82718e-07, 2.70632e-06, 1.11212e-05, 8.79534e-07, 3.23679e-06, 2.1824e-06, 1.52466e-05, 3.23456e-05, 0.0056621, 4.18662e-05, 3.29793e-06, 5.22225e-06, 2.65346e-06, 0.00010386, 3.61238e-06, 3.26987e-05, 1.44168e-05, 2.64775e-06, 3.02672e-05, 2.07286e-05, 6.35014e-07, 0.0010349, 0.000120689, 1.89701e-05, 0.00143488, 0.00122427, 4.08607e-05, 2.77662e-05, 5.62512e-05, 3.04827e-05, 3.65182e-05, 0.000278494, 1.3878e-06, 1.432e-05, 4.32014e-05, 0.000180095, 2.08596e-05, 2.81508e-05, 2.42991e-05, 2.37358e-06, 4.83489e-06, 8.58977e-07, 0.000266866, 3.2876e-05, 1.62078e-05, 0.000171538, 4.74526e-05, 0.000202391, 0.00100246, 2.81175e-05, 4.10222e-05, 2.46331e-05, 4.70246e-06, 0.000157223, 6.9423e-06, 0.000104187, 5.06262e-06, 0.000237199, 1.59209e-05, 1.31265e-05, 4.52396e-06, 2.76584e-05, 3.30195e-05, 3.6152e-05, 7.53286e-06, 5.85312e-06, 9.30731e-06, 0.000109782, 3.77216e-06, 4.04878e-05, 0.00083276, 6.56018e-06, 2.97533e-05, 7.9895e-05, 7.19403e-06, 2.85216e-05, 6.93705e-06, 0.000150861, 7.89628e-05, 1.80879e-05, 4.51904e-06, 7.48814e-06, 0.000284311, 0.000370582, 2.2551e-05, 3.92047e-07, 5.94012e-05, 2.30029e-05, 0.000177692, 4.08845e-06, 0.0001915, 1.69808e-05, 1.39281e-05, 5.93706e-05, 0.00859778, 8.92276e-06, 2.52856e-05, 1.1082e-06, 3.91429e-05, 2.87995e-05, 1.4476e-06, 1.42996e-05, 5.09417e-05, 3.2907e-05, 1.07755e-05, 1.17377e-05, 4.97909e-06, 2.44762e-06, 1.46709e-05, 4.5709e-05, 0.000531757, 0.000429554, 1.02305e-05, 0.00138796, 5.36537e-05, 5.59443e-06, 5.74546e-06, 1.1087e-05, 1.48804e-05, 1.63714e-05, 0.000717383, 0.000484416, 4.60416e-06, 1.22989e-06, 3.04257e-05, 4.32614e-05, 2.32723e-06, 1.86835e-05, 6.35208e-05, 2.56919e-05, 3.35049e-05, 0.000295776, 8.73877e-05, 1.11399e-05, 3.46562e-05, 1.2337e-05, 1.85506e-05, 4.19075e-06, 6.53878e-05, 5.0677e-05, 3.19454e-06, 5.8189e-05, 0.00014023, 9.87706e-05, 2.70629e-05, 1.03614e-05, 1.44266e-05, 0.00847451, 4.19235e-06, 1.07136e-05, 1.99549e-05, 3.45568e-05, 1.71649e-05, 3.77934e-05, 6.93644e-06, 0.348161, 4.00101e-05, 0.0097845, 0.157241, 1.92024e-05, 1.00632e-05, 7.32528e-05, 2.18548e-05, 0.000193356, 1.01072e-05, 0.000399012, 0.00031195, 1.28884e-05, 0.000130548, 3.81306e-06, 0.000128497, 0.00024163, 0.000379113, 7.91989e-05, 2.43012e-06, 6.26858e-06, 9.55554e-07, 4.41275e-05, 1.43433e-05, 2.57034e-05, 0.000152886, 7.41179e-05, 1.29478e-06, 4.73446e-06, 5.2828e-06, 4.42646e-06, 1.40645e-05, 5.45638e-06, 1.11177e-05, 8.57465e-05, 6.10937e-05, 8.36439e-05, 4.85455e-05, 0.000259043, 1.16769e-05, 6.56899e-06, 1.7636e-06, 1.61605e-06, 5.28044e-06, 2.08044e-05, 5.39137e-06, 7.35896e-06, 4.09693e-06, 1.39811e-05, 1.04114e-05, 3.37263e-05, 0.000829587, 9.64052e-05, 1.11881e-05, 1.00934e-05, 0.000142103, 3.98228e-05, 8.15895e-06, 5.26559e-06, 1.84133e-06, 1.35774e-06, 3.42732e-07, 4.3323e-07, 2.60686e-07, 6.93688e-07, 8.35095e-05, 1.22521e-06, 4.04242e-05, 4.3984e-05, 5.52076e-07, 6.77689e-06, 8.45596e-07, 3.83125e-06, 1.92088e-06, 4.78585e-06, 5.71444e-06, 5.38906e-07, 5.12801e-07, 1.27377e-06, 6.05535e-06, 1.82513e-06, 7.66171e-07, 2.49991e-06, 1.15402e-06, 2.73043e-06, 3.29333e-06, 1.34039e-05, 1.88603e-06, 2.46252e-06, 1.06744e-05, 9.7577e-06, 1.44153e-05, 2.77796e-06, 2.6569e-06, 0.00028214, 1.33183e-06, 1.28875e-06, 5.57769e-06, 1.055e-06, 1.58712e-06, 1.9193e-07, 1.67264e-06, 6.94159e-06, 2.36635e-05, 1.92489e-05, 3.82858e-06, 0.000257989, 2.85432e-05, 1.71494e-05, 8.42224e-06, 7.53933e-06, 5.53848e-05, 2.81793e-06, 0.000688436, 1.16843e-05, 6.41628e-06, 2.60489e-05, 5.08671e-05, 3.67794e-06, 1.70172e-05, 5.44156e-06, 2.19436e-06, 2.85248e-07, 5.79222e-05, 5.79985e-06, 3.09615e-06, 9.86257e-07, 1.00937e-06, 2.59603e-06, 9.49831e-07, 7.10183e-07, 2.7832e-06, 1.52804e-06, 1.71382e-06, 1.40116e-05, 3.4896e-05]\n",
      "865\n",
      "0.348161\n",
      "Class index: 864\n"
     ]
    }
   ],
   "source": [
    "import json\n",
    "with open('00000b4dcff7f799.jpg.out', 'r') as f:\n",
    "    jstr = json.load(f)\n",
    "    print(jstr)\n",
    "    \n",
    "    # Subtracting 1 for \"background\" class\n",
    "    class_index = jstr['predictions'][0]['classes'] - 1\n",
    "    print(type(jstr))\n",
    "    probabilities = jstr['predictions'][0]['probabilities']\n",
    "    print(probabilities)\n",
    "    import numpy as np\n",
    "    probs = np.argmax(probabilities)\n",
    "    print(probs)\n",
    "    print(probabilities[class_index+1])\n",
    "    \n",
    "    # Index 864 corresponds to \"tow truck\"\n",
    "    print('Class index: {}'.format(class_index))"
   ]
  },
  {
   "cell_type": "markdown",
   "metadata": {},
   "source": [
    "## Conclusion\n",
    "\n",
    "SageMaker batch transform can transform large datasets quickly and scalably. We used the SageMaker TensorFlow Serving Container to demonstrate how to quickly get inferences on a hundred thousand images using GPU-accelerated instances.\n",
    "\n",
    "The Amazon SageMaker TFS container supports CSV and JSON data out of the box. The pre- and post-processing feature of the container lets you run transform jobs on data of any format. The same container can be used for real-time inference as well using an Amazon SageMaker hosted model endpoint."
   ]
  }
 ],
 "metadata": {
  "kernelspec": {
   "display_name": "conda_tensorflow_p36",
   "language": "python",
   "name": "conda_tensorflow_p36"
  },
  "language_info": {
   "codemirror_mode": {
    "name": "ipython",
    "version": 3
   },
   "file_extension": ".py",
   "mimetype": "text/x-python",
   "name": "python",
   "nbconvert_exporter": "python",
   "pygments_lexer": "ipython3",
   "version": "3.6.5"
  },
  "notice": "Copyright 2017 Amazon.com, Inc. or its affiliates. All Rights Reserved.  Licensed under the Apache License, Version 2.0 (the \"License\"). You may not use this file except in compliance with the License. A copy of the License is located at http://aws.amazon.com/apache2.0/ or in the \"license\" file accompanying this file. This file is distributed on an \"AS IS\" BASIS, WITHOUT WARRANTIES OR CONDITIONS OF ANY KIND, either express or implied. See the License for the specific language governing permissions and limitations under the License. Copyright 2017 The TensorFlow Authors. All Rights Reserved. Licensed under the Apache License, Version 2.0 (the \"License\"); you may not use this file except in compliance with the License. You may obtain a copy of the License at  http://www.apache.org/licenses/LICENSE-2.0 Unless required by applicable law or agreed to in writing, software distributed under the License is distributed on an \"AS IS\" BASIS, WITHOUT WARRANTIES OR CONDITIONS OF ANY KIND, either express or implied.  See the License for the specific language governing permissions and limitations under the License."
 },
 "nbformat": 4,
 "nbformat_minor": 2
}
